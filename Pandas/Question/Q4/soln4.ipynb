{
 "cells": [
  {
   "cell_type": "markdown",
   "metadata": {},
   "source": [
    "# Applying Conditions on Dataframes\n",
    "## Description\n",
    "#### Print all the columns and the rows where 'area' is greater than 0, 'wind' is greater than 1 and the 'temp' is greater than 15."
   ]
  },
  {
   "cell_type": "code",
   "execution_count": 1,
   "metadata": {},
   "outputs": [],
   "source": [
    "import numpy as np\n",
    "import pandas as pd"
   ]
  },
  {
   "cell_type": "code",
   "execution_count": 3,
   "metadata": {},
   "outputs": [
    {
     "name": "stdout",
     "output_type": "stream",
     "text": [
      "     X  Y month  day  FFMC    DMC     DC   ISI  temp  RH  wind  rain  area\n",
      "138  9  9   jul  tue  85.8   48.3  313.4   3.9  18.0  42   2.7   0.0  0.36\n",
      "139  1  4   sep  tue  91.0  129.5  692.6   7.0  21.7  38   2.2   0.0  0.43\n",
      "140  2  5   sep  mon  90.9  126.5  686.5   7.0  21.9  39   1.8   0.0  0.47\n",
      "141  1  2   aug  wed  95.5   99.9  513.3  13.2  23.3  31   4.5   0.0  0.55\n",
      "142  8  6   aug  fri  90.1  108.0  529.8  12.5  21.2  51   8.9   0.0  0.61\n",
      "143  1  2   jul  sat  90.0   51.3  296.3   8.7  16.6  53   5.4   0.0  0.71\n",
      "144  2  5   aug  wed  95.5   99.9  513.3  13.2  23.8  32   5.4   0.0  0.77\n",
      "145  6  5   aug  thu  95.2  131.7  578.8  10.4  27.4  22   4.0   0.0  0.90\n",
      "147  8  3   sep  tue  84.4   73.4  671.9   3.2  24.2  28   3.6   0.0  0.96\n",
      "148  2  2   aug  tue  94.8  108.3  647.1  17.0  17.4  43   6.7   0.0  1.07\n",
      "149  8  6   sep  thu  93.7   80.9  685.2  17.9  23.7  25   4.5   0.0  1.12\n",
      "150  6  5   jun  fri  92.5   56.4  433.3   7.1  23.2  39   5.4   0.0  1.19\n",
      "151  9  9   jul  sun  90.1   68.6  355.2   7.2  24.8  29   2.2   0.0  1.36\n",
      "152  3  4   jul  sat  90.1   51.2  424.1   6.2  24.6  43   1.8   0.0  1.43\n",
      "153  5  4   sep  fri  94.3   85.1  692.3  15.9  20.1  47   4.9   0.0  1.46\n",
      "154  1  5   sep  sat  93.4  145.4  721.4   8.1  29.6  27   2.7   0.0  1.46\n",
      "155  7  4   aug  sun  94.8  108.3  647.1  17.0  16.4  47   1.3   0.0  1.56\n",
      "156  2  4   sep  sat  93.4  145.4  721.4   8.1  28.6  27   2.2   0.0  1.61\n",
      "157  2  2   aug  wed  92.1  111.2  654.1   9.6  18.4  45   3.6   0.0  1.63\n",
      "158  2  4   aug  wed  92.1  111.2  654.1   9.6  20.5  35   4.0   0.0  1.64\n"
     ]
    }
   ],
   "source": [
    "df = pd.read_csv('forestfires.csv')\n",
    "df_2 = df[(df[\"area\"]>0) & (df[\"wind\"]>1) & (df[\"temp\"]>15)]\n",
    "print(df_2.head(20))"
   ]
  },
  {
   "cell_type": "code",
   "execution_count": null,
   "metadata": {},
   "outputs": [],
   "source": []
  }
 ],
 "metadata": {
  "kernelspec": {
   "display_name": "Python 3",
   "language": "python",
   "name": "python3"
  },
  "language_info": {
   "codemirror_mode": {
    "name": "ipython",
    "version": 3
   },
   "file_extension": ".py",
   "mimetype": "text/x-python",
   "name": "python",
   "nbconvert_exporter": "python",
   "pygments_lexer": "ipython3",
   "version": "3.7.6"
  }
 },
 "nbformat": 4,
 "nbformat_minor": 4
}
